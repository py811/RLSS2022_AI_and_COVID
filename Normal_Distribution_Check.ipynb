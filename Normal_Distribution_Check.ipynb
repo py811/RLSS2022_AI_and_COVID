{
 "cells": [
  {
   "cell_type": "code",
   "execution_count": 2,
   "metadata": {},
   "outputs": [
    {
     "data": {
      "image/png": "[encoded data removed]",
      "text/plain": [
       "<Figure size 432x288 with 1 Axes>"
      ]
     },
     "metadata": {
      "needs_background": "light"
     },
     "output_type": "display_data"
    }
   ],
   "source": [
    "import math\n",
    "import numpy as np\n",
    "from scipy.stats import lognorm\n",
    "import matplotlib.pyplot as plt\n",
    "\n",
    "import pandas as pd\n",
    "\n",
    "df = pd.read_csv(r'C:\\Users\\Vishwas\\Desktop\\RL_AI_COVID\\Final Presentation\\datasets-20220904T161923Z-001\\datasets\\complete_data_lag\\Covid_avg_PCR_lag.csv')\n",
    "#create histogram to visualize values in dataset\n",
    "plt.xlabel('Daily PCR Positive Count')\n",
    "plt.ylabel('Frequency')\n",
    "plt.hist(df[\"PCR_Postive_Count\"], edgecolor='black', bins=100)\n",
    "plt.savefig('Normal_Distribution_Proof.png')"
   ]
  },
  {
   "cell_type": "code",
   "execution_count": null,
   "metadata": {},
   "outputs": [],
   "source": []
  },
  {
   "cell_type": "code",
   "execution_count": 3,
   "metadata": {},
   "outputs": [
    {
     "data": {
      "text/plain": [
       "KstestResult(statistic=1.0, pvalue=0.0)"
      ]
     },
     "execution_count": 3,
     "metadata": {},
     "output_type": "execute_result"
    }
   ],
   "source": [
    "import math\n",
    "import numpy as np\n",
    "from scipy.stats import kstest\n",
    "from scipy.stats import lognorm\n",
    "\n",
    "\n",
    "#perform Kolmogorov-Smirnov test for normality\n",
    "kstest(df[\"PCR_Postive_Count\"], 'norm')\n"
   ]
  },
  {
   "cell_type": "code",
   "execution_count": 7,
   "metadata": {},
   "outputs": [
    {
     "name": "stdout",
     "output_type": "stream",
     "text": [
      "Unnamed: 0                      26.124701\n",
      "PCR_Postive_Count             2834.280958\n",
      "PCR_Positive_Hospitalised       28.477514\n",
      "Deceased                         5.611385\n",
      "Total_Confirmed              91961.426581\n",
      "Current_Infected             44392.701591\n",
      "temperature                      2.983578\n",
      "wind_speed                       7.337246\n",
      "relative_humidity                7.862088\n",
      "PCR_Postive_Count_lag_-1      2790.405634\n",
      "PCR_Postive_Count_lag_-2      2804.099976\n",
      "PCR_Postive_Count_lag_-3      2818.598863\n",
      "PCR_Postive_Count_lag_-4      2821.499196\n",
      "PCR_Postive_Count_lag_-5      2821.751099\n",
      "PCR_Postive_Count_lag_-6      2832.633706\n",
      "PCR_Postive_Count_lag_-7      2843.420223\n",
      "Current_Infected_lag_-1      43950.423190\n",
      "Current_Infected_lag_-2      44058.778972\n",
      "Current_Infected_lag_-3      44177.759882\n",
      "Current_Infected_lag_-4      44294.010645\n",
      "Current_Infected_lag_-5      44404.977485\n",
      "Current_Infected_lag_-6      44521.285425\n",
      "Current_Infected_lag_-7      44643.152060\n",
      "dtype: float64\n"
     ]
    }
   ],
   "source": [
    "#---------------------Variance -----------Winter\n",
    "df = pd.read_csv(r'C:\\Users\\Vishwas\\Desktop\\RL_AI_COVID\\Final Presentation\\datasets-20220904T161923Z-001\\datasets\\Winter\\data_winter_PCR_lag.csv')\n",
    "print(df.std())"
   ]
  },
  {
   "cell_type": "code",
   "execution_count": 10,
   "metadata": {},
   "outputs": [
    {
     "name": "stdout",
     "output_type": "stream",
     "text": [
      "Unnamed: 0                      26.702060\n",
      "PCR_Positive_Hospitalised       15.537614\n",
      "Deceased                         3.269453\n",
      "Total_Confirmed              15146.055678\n",
      "Current_Infected              4961.352384\n",
      "temperature                      5.377821\n",
      "wind_speed                       4.376803\n",
      "relative_humidity                7.199582\n",
      "PCR_Postive_Count_lag_-1       518.055211\n",
      "PCR_Postive_Count_lag_-2       520.654160\n",
      "PCR_Postive_Count_lag_-3       523.390105\n",
      "PCR_Postive_Count_lag_-4       526.359860\n",
      "PCR_Postive_Count_lag_-5       528.276834\n",
      "PCR_Postive_Count_lag_-6       530.640432\n",
      "PCR_Postive_Count_lag_-7       533.627045\n",
      "Current_Infected_lag_-1       4967.258453\n",
      "Current_Infected_lag_-2       4978.987210\n",
      "Current_Infected_lag_-3       4995.467469\n",
      "Current_Infected_lag_-4       5014.687794\n",
      "Current_Infected_lag_-5       5034.703264\n",
      "Current_Infected_lag_-6       5056.013756\n",
      "Current_Infected_lag_-7       5079.289354\n",
      "dtype: float64\n"
     ]
    }
   ],
   "source": [
    "#---------------------Variance -----------Autumn\n",
    "df = pd.read_csv(r'C:\\Users\\Vishwas\\Desktop\\RL_AI_COVID\\Final Presentation\\datasets-20220904T161923Z-001\\datasets\\Autumn\\data_autumn_PCR_lag.csv')\n",
    "print(df.std())"
   ]
  },
  {
   "cell_type": "code",
   "execution_count": 11,
   "metadata": {},
   "outputs": [
    {
     "name": "stdout",
     "output_type": "stream",
     "text": [
      "Unnamed: 0                       23.526581\n",
      "PCR_Postive_Count              4111.318926\n",
      "PCR_Positive_Hospitalised        36.384983\n",
      "Deceased                          5.428605\n",
      "Total_Confirmed              154409.442007\n",
      "Current_Infected              50360.906776\n",
      "temperature                       5.267911\n",
      "wind_speed                        4.962018\n",
      "relative_humidity                10.823672\n",
      "PCR_Postive_Count_lag_-1       4134.108931\n",
      "PCR_Postive_Count_lag_-2       4158.065381\n",
      "PCR_Postive_Count_lag_-3       4178.817378\n",
      "PCR_Postive_Count_lag_-4       4181.755844\n",
      "PCR_Postive_Count_lag_-5       4190.396568\n",
      "PCR_Postive_Count_lag_-6       4196.037558\n",
      "PCR_Postive_Count_lag_-7       4218.358784\n",
      "Current_Infected_lag_-1       50667.431988\n",
      "Current_Infected_lag_-2       50988.664732\n",
      "Current_Infected_lag_-3       51315.101258\n",
      "Current_Infected_lag_-4       51649.417809\n",
      "Current_Infected_lag_-5       51979.727635\n",
      "Current_Infected_lag_-6       52296.727884\n",
      "Current_Infected_lag_-7       52624.187337\n",
      "dtype: float64\n"
     ]
    }
   ],
   "source": [
    "#---------------------Variance -----------Autumn\n",
    "df = pd.read_csv(r'C:\\Users\\Vishwas\\Desktop\\RL_AI_COVID\\Final Presentation\\datasets-20220904T161923Z-001\\datasets\\Spring\\data_spring_PCR_lag.csv')\n",
    "print(df.std())"
   ]
  },
  {
   "cell_type": "code",
   "execution_count": null,
   "metadata": {},
   "outputs": [],
   "source": []
  }
 ],
 "metadata": {
  "kernelspec": {
   "display_name": "Python 3",
   "language": "python",
   "name": "python3"
  },
  "language_info": {
   "codemirror_mode": {
    "name": "ipython",
    "version": 3
   },
   "file_extension": ".py",
   "mimetype": "text/x-python",
   "name": "python",
   "nbconvert_exporter": "python",
   "pygments_lexer": "ipython3",
   "version": "3.8.5"
  }
 },
 "nbformat": 4,
 "nbformat_minor": 4
}
