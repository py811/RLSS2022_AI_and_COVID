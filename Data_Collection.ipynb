{
 "cells": [
  {
   "cell_type": "code",
   "execution_count": 1,
   "metadata": {
    "scrolled": true
   },
   "outputs": [],
   "source": [
    "import requests\n",
    "from bs4 import BeautifulSoup\n",
    "import json\n",
    "import pandas as pd\n",
    "from datetime import date, timedelta\n",
    "\n",
    "def read_latlong():\n",
    "    return pd.read_csv('latlong.csv')\n",
    "\n",
    "def getData(start_date,end_date, latlong_df):\n",
    "    main_df = []\n",
    "    for single_date in daterange(start_date, end_date):\n",
    "            currentdate = single_date.strftime(\"%Y-%m-%d\")\n",
    "            for (colname,colval) in latlong_df.iterrows():\n",
    "                generated_url = generateUrl(colval.values[1], colval.values[2], currentdate)\n",
    "                indvidual_df = writetocsv(generated_url, colval.values[0], currentdate)\n",
    "                main_df.append(indvidual_df)\n",
    "    return main_df\n",
    "\n",
    "def daterange(start_date, end_date):\n",
    "    for n in range(int((end_date - start_date).days)):\n",
    "        yield start_date + timedelta(n)\n",
    "\n",
    "def generateUrl(latitude,longitude,date):\n",
    "    return f'https://api.brightsky.dev/weather?lat={latitude}&lon={longitude}&date={date}'\n",
    "\n",
    "             \n",
    "def writetocsv(url ,districtName, currentdate):\n",
    "    req = requests.get(url)\n",
    "    soup = BeautifulSoup(req.content, 'html.parser')\n",
    "    json_dicti = json.loads(soup.text)\n",
    "    tocsv = pd.DataFrame(json_dicti['weather'])\n",
    "    tocsv.insert(0, 'District Name', districtName)\n",
    "    tocsv.insert(1, 'Current Date', currentdate)\n",
    "    return tocsv\n",
    "\n",
    "def write_to_csv(main_dataframe):\n",
    "    with open(\"1yearDataUpdated.csv\", \"a\", newline=\"\") as csvfile:\n",
    "        count = 0\n",
    "        print(\"Writing to file initiated\")\n",
    "        for each_df in main_dataframe:\n",
    "            if count == 0:\n",
    "                each_df.to_csv(csvfile,index=False)\n",
    "                count = 1\n",
    "            else:\n",
    "                each_df.to_csv(csvfile,header=False,index=False)\n",
    "    print(\"Writing to file Finished\")\n",
    "    "
   ]
  },
  {
   "cell_type": "code",
   "execution_count": 6,
   "metadata": {
    "scrolled": true
   },
   "outputs": [
    {
     "name": "stdout",
     "output_type": "stream",
     "text": [
      "Writing to file initiated\n",
      "Writing to file Finished\n"
     ]
    }
   ],
   "source": [
    "start_date = date(2022, 5, 22)  #year-month-date format\n",
    "end_date = date(2022, 8, 1)\n",
    "latlong_Dataframe = read_latlong()\n",
    "main_dataframe = getData(start_date,end_date, latlong_Dataframe)\n",
    "write_to_csv(main_dataframe)"
   ]
  },
  {
   "cell_type": "code",
   "execution_count": null,
   "metadata": {},
   "outputs": [],
   "source": [
    "\n"
   ]
  },
  {
   "cell_type": "code",
   "execution_count": null,
   "metadata": {},
   "outputs": [],
   "source": []
  },
  {
   "cell_type": "code",
   "execution_count": null,
   "metadata": {},
   "outputs": [],
   "source": []
  }
 ],
 "metadata": {
  "kernelspec": {
   "display_name": "Python 3",
   "language": "python",
   "name": "python3"
  },
  "language_info": {
   "codemirror_mode": {
    "name": "ipython",
    "version": 3
   },
   "file_extension": ".py",
   "mimetype": "text/x-python",
   "name": "python",
   "nbconvert_exporter": "python",
   "pygments_lexer": "ipython3",
   "version": "3.8.5"
  }
 },
 "nbformat": 4,
 "nbformat_minor": 4
}
