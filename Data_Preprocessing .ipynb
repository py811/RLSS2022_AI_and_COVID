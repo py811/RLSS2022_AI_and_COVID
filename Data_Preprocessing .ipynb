{
 "cells": [
  {
   "cell_type": "code",
   "execution_count": 3,
   "metadata": {},
   "outputs": [],
   "source": [
    "import pandas as pd\n",
    "\n",
    "\n",
    "def read_csv_file():\n",
    "    col_list = [\"District\", \"Date\", \"temperature\", \"wind_speed\", \"relative_humidity\"]\n",
    "    return pd.read_csv('1yearDataUpdated_Aug1st2021ToJuly31st2022_Updated_final.csv',usecols=col_list,low_memory=False)\n",
    "\n",
    "def preprocssing(read_df):\n",
    "    temp_aggregated_df = read_df.groupby(['District','Date']) \\\n",
    ".agg(avg_temperature_per_day = ('temperature', 'mean'), max_temp_per_day = ('temperature', 'max'), min_temp_per_day = ('temperature', 'min'))\n",
    "    temp_aggregated_df['max - min temp']= temp_aggregated_df.apply(lambda x: x['max_temp_per_day'] - x['min_temp_per_day'], axis = 1)\n",
    "    temp_aggregated_df.to_csv(\"Temp_Aggregated_1Year_final.csv\")\n",
    "    "
   ]
  },
  {
   "cell_type": "code",
   "execution_count": 4,
   "metadata": {},
   "outputs": [],
   "source": [
    "read_df = read_csv_file()\n",
    "preprocssing(read_df)"
   ]
  },
  {
   "cell_type": "code",
   "execution_count": null,
   "metadata": {},
   "outputs": [],
   "source": []
  }
 ],
 "metadata": {
  "kernelspec": {
   "display_name": "Python 3",
   "language": "python",
   "name": "python3"
  },
  "language_info": {
   "codemirror_mode": {
    "name": "ipython",
    "version": 3
   },
   "file_extension": ".py",
   "mimetype": "text/x-python",
   "name": "python",
   "nbconvert_exporter": "python",
   "pygments_lexer": "ipython3",
   "version": "3.8.5"
  }
 },
 "nbformat": 4,
 "nbformat_minor": 4
}
